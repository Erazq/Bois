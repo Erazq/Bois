{
 "cells": [
  {
   "cell_type": "markdown",
   "metadata": {},
   "source": [
    "# Combinaison des Charges pour ELU\n",
    "\n",
    "## Neige \n",
    "\n",
    "rentrer les variables"
   ]
  },
  {
   "cell_type": "code",
   "execution_count": 1,
   "metadata": {},
   "outputs": [
    {
     "name": "stdout",
     "output_type": "stream",
     "text": [
      "Altitude locale (h_0) : 800 m\n",
      "Coefficient de pente (mu_s) : 0.8\n",
      "Charge de neige sur terrain horizontal (s_k) : 4.32 kN/m²\n",
      "Charge de neige sur la toiture (q_neige) : 3.45 kN/m²\n"
     ]
    }
   ],
   "source": [
    "# Variables d'entrée\n",
    "h_0 = 800        # Altitude locale (m)\n",
    "mu_s = 0.8       # Coefficient de pente (à entrer manuellement) SIA 251 Fig. 2 à 5\n",
    "C_e = 1.0        # Coefficient d'exposition\n",
    "C_t = 1.0        # Coefficient thermique\n",
    "\n",
    "def calculer_charge_neige_terrain(h_0):\n",
    "    \"\"\"\n",
    "    Calcule la charge de neige sur un terrain horizontal (s_k) selon SIA 261.\n",
    "    :param h_0: Altitude locale (m).\n",
    "    :return: Charge de neige sur terrain horizontal (s_k) en kN/m².\n",
    "    \"\"\"\n",
    "    s_k = ((1 + h_0 / 350) ** 2) * 0.4\n",
    "    return max(s_k, 0.9)  # La charge minimale est 0.9 kN/m²\n",
    "\n",
    "def calculer_charge_neige_toiture(h_0, mu_s, C_e, C_t):\n",
    "    \"\"\"\n",
    "    Calcule la charge de neige sur une toiture selon SIA 261.\n",
    "    :param h_0: Altitude locale (m).\n",
    "    :param mu_s: Coefficient de pente (manuel).\n",
    "    :param C_e: Coefficient d'exposition.\n",
    "    :param C_t: Coefficient thermique.\n",
    "    :return: Charge de neige sur la toiture (q_neige) en kN/m².\n",
    "    \"\"\"\n",
    "    s_k = calculer_charge_neige_terrain(h_0)  # Charge sur terrain horizontal\n",
    "    q_neige = mu_s * C_e * C_t * s_k  # Charge sur la toiture\n",
    "    return q_neige\n",
    "\n",
    "# Calcul des charges\n",
    "s_k = calculer_charge_neige_terrain(h_0)  # Charge de neige sur terrain horizontal\n",
    "q_neige = calculer_charge_neige_toiture(h_0, mu_s, C_e, C_t)  # Charge sur la toiture\n",
    "\n",
    "# Affichage des résultats\n",
    "print(f\"Altitude locale (h_0) : {h_0} m\")\n",
    "print(f\"Coefficient de pente (mu_s) : {mu_s}\")\n",
    "print(f\"Charge de neige sur terrain horizontal (s_k) : {s_k:.2f} kN/m²\")\n",
    "print(f\"Charge de neige sur la toiture (q_neige) : {q_neige:.2f} kN/m²\")\n"
   ]
  },
  {
   "cell_type": "markdown",
   "metadata": {},
   "source": [
    "## Vent \n",
    "\n",
    "rentrer les variable "
   ]
  },
  {
   "cell_type": "code",
   "execution_count": 2,
   "metadata": {},
   "outputs": [
    {
     "name": "stdout",
     "output_type": "stream",
     "text": [
      "Catégorie de terrain : III\n",
      "Hauteur (z) : 20 m\n",
      "Pression de base (q_0) : 0.500 kN/m²\n",
      "Coefficient de répartition du vent (c_h) : 1.193\n",
      "Pression dynamique du vent (q_p) : 0.597 kN/m²\n"
     ]
    }
   ],
   "source": [
    "# Variables d'entrée\n",
    "q_0 = 0.5  # Pression de base (kN/m²), définie pour z = 10 m dans la catégorie de terrain choisie\n",
    "z = 20     # Hauteur considérée (m)\n",
    "terrain_categorie = \"III\"  # Catégorie de terrain (II, IIa, III, IV)\n",
    "\n",
    "# Données des catégories de terrain (z_g et alpha_r)\n",
    "terrains = {\n",
    "    \"II\": {\"z_g\": 300, \"alpha_r\": 0.16},\n",
    "    \"IIa\": {\"z_g\": 380, \"alpha_r\": 0.19},\n",
    "    \"III\": {\"z_g\": 450, \"alpha_r\": 0.23},\n",
    "    \"IV\": {\"z_g\": 526, \"alpha_r\": 0.30},\n",
    "}\n",
    "\n",
    "def calculer_coefficient_ch(z, terrain):\n",
    "    \"\"\"\n",
    "    Calcule le coefficient de répartition du vent (c_h) selon SIA 261.\n",
    "    :param z: Hauteur considérée (m).\n",
    "    :param terrain: Dictionnaire contenant les paramètres z_g et alpha_r.\n",
    "    :return: Coefficient de répartition du vent (c_h).\n",
    "    \"\"\"\n",
    "    z_g = terrain[\"z_g\"]\n",
    "    alpha_r = terrain[\"alpha_r\"]\n",
    "    c_h = 1.6 * ((z / z_g) ** alpha_r + 0.375) ** 2\n",
    "    return c_h\n",
    "\n",
    "def calculer_pression_dynamique(q_0, c_h):\n",
    "    \"\"\"\n",
    "    Calcule la pression dynamique (q_p) selon SIA 261.\n",
    "    :param q_0: Pression de base (kN/m²).\n",
    "    :param c_h: Coefficient de répartition du vent.\n",
    "    :return: Pression dynamique (q_p) en kN/m².\n",
    "    \"\"\"\n",
    "    return c_h * q_0\n",
    "\n",
    "# Récupération des paramètres pour la catégorie de terrain choisie\n",
    "terrain = terrains[terrain_categorie]\n",
    "\n",
    "# Calcul des coefficients et de la pression dynamique\n",
    "c_h = calculer_coefficient_ch(z, terrain)\n",
    "q_p = calculer_pression_dynamique(q_0, c_h)\n",
    "\n",
    "# Affichage des résultats\n",
    "print(f\"Catégorie de terrain : {terrain_categorie}\")\n",
    "print(f\"Hauteur (z) : {z} m\")\n",
    "print(f\"Pression de base (q_0) : {q_0:.3f} kN/m²\")\n",
    "print(f\"Coefficient de répartition du vent (c_h) : {c_h:.3f}\")\n",
    "print(f\"Pression dynamique du vent (q_p) : {q_p:.3f} kN/m²\")\n"
   ]
  }
 ],
 "metadata": {
  "kernelspec": {
   "display_name": "Python 3",
   "language": "python",
   "name": "python3"
  },
  "language_info": {
   "codemirror_mode": {
    "name": "ipython",
    "version": 3
   },
   "file_extension": ".py",
   "mimetype": "text/x-python",
   "name": "python",
   "nbconvert_exporter": "python",
   "pygments_lexer": "ipython3",
   "version": "3.12.8"
  }
 },
 "nbformat": 4,
 "nbformat_minor": 2
}
